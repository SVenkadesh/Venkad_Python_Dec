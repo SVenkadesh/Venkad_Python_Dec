{
 "cells": [
  {
   "cell_type": "code",
   "execution_count": 9,
   "id": "b0e70c27-0922-4e8c-a771-b77e65d9df4f",
   "metadata": {},
   "outputs": [],
   "source": [
    "#Class-3\n",
    "#Calling python library\n",
    "# from Python Library filename import Classname\n",
    "from MultipleFunctions_Call import multiplefunctions"
   ]
  },
  {
   "cell_type": "code",
   "execution_count": 11,
   "id": "97685483-192c-4316-b7dc-d0fdd74b49d2",
   "metadata": {},
   "outputs": [
    {
     "name": "stdin",
     "output_type": "stream",
     "text": [
      "Enter any value: 67\n"
     ]
    },
    {
     "name": "stdout",
     "output_type": "stream",
     "text": [
      "It is ODD number\n"
     ]
    }
   ],
   "source": [
    "# Classname . Functionname\n",
    "multiplefunctions.OddEven()"
   ]
  },
  {
   "cell_type": "code",
   "execution_count": 13,
   "id": "a1c56164-3e69-42e2-9a5d-6612cf3305e8",
   "metadata": {},
   "outputs": [
    {
     "name": "stdin",
     "output_type": "stream",
     "text": [
      "Enter the BMI Index: 37\n"
     ]
    },
    {
     "name": "stdout",
     "output_type": "stream",
     "text": [
      "Very Overweight\n"
     ]
    },
    {
     "data": {
      "text/plain": [
       "'Very Overweight'"
      ]
     },
     "execution_count": 13,
     "metadata": {},
     "output_type": "execute_result"
    }
   ],
   "source": [
    "# Classname . Functionname\n",
    "multiplefunctions.BMI_Value()"
   ]
  },
  {
   "cell_type": "code",
   "execution_count": null,
   "id": "456374a9-2305-400f-8b63-485b8cf9c8b8",
   "metadata": {},
   "outputs": [],
   "source": []
  }
 ],
 "metadata": {
  "kernelspec": {
   "display_name": "Python 3 (ipykernel)",
   "language": "python",
   "name": "python3"
  },
  "language_info": {
   "codemirror_mode": {
    "name": "ipython",
    "version": 3
   },
   "file_extension": ".py",
   "mimetype": "text/x-python",
   "name": "python",
   "nbconvert_exporter": "python",
   "pygments_lexer": "ipython3",
   "version": "3.12.4"
  }
 },
 "nbformat": 4,
 "nbformat_minor": 5
}
