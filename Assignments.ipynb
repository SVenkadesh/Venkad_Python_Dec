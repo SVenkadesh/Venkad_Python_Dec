{
 "cells": [
  {
   "cell_type": "code",
   "execution_count": 74,
   "id": "e58ed420-a192-4b68-82d5-b22025853037",
   "metadata": {},
   "outputs": [
    {
     "name": "stdin",
     "output_type": "stream",
     "text": [
      "Enter any value: 3\n"
     ]
    },
    {
     "name": "stdout",
     "output_type": "stream",
     "text": [
      "3 is ODD number\n"
     ]
    }
   ],
   "source": [
    "# Find the given number is ODD or EVEN\n",
    "\n",
    "A = int(input('Enter any value:'));\n",
    "\n",
    "if((A%2)==0):\n",
    "    print(A,'is EVEN number');\n",
    "else:\n",
    "    print(A,'is ODD number')"
   ]
  },
  {
   "cell_type": "code",
   "execution_count": null,
   "id": "6518aaa6-633f-4843-9ee6-17a069e8425d",
   "metadata": {},
   "outputs": [],
   "source": []
  },
  {
   "cell_type": "code",
   "execution_count": null,
   "id": "a18516cb-eb06-433f-95ef-12856df806cd",
   "metadata": {},
   "outputs": [],
   "source": []
  }
 ],
 "metadata": {
  "kernelspec": {
   "display_name": "Python 3 (ipykernel)",
   "language": "python",
   "name": "python3"
  },
  "language_info": {
   "codemirror_mode": {
    "name": "ipython",
    "version": 3
   },
   "file_extension": ".py",
   "mimetype": "text/x-python",
   "name": "python",
   "nbconvert_exporter": "python",
   "pygments_lexer": "ipython3",
   "version": "3.12.4"
  }
 },
 "nbformat": 4,
 "nbformat_minor": 5
}
