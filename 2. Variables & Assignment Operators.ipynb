{
 "cells": [
  {
   "cell_type": "code",
   "execution_count": null,
   "id": "7cd58ff6-e9ab-43c2-84eb-8bdd6f4bb766",
   "metadata": {},
   "outputs": [],
   "source": [
    "#Rules\n",
    "#No space between words (First Name)\n",
    "#Dont start with number while creating Variables (1ADD)"
   ]
  },
  {
   "cell_type": "code",
   "execution_count": 103,
   "id": "330f2967-dc9e-42f5-9e09-6fd1474a8c18",
   "metadata": {},
   "outputs": [
    {
     "ename": "SyntaxError",
     "evalue": "invalid syntax (3836066347.py, line 1)",
     "output_type": "error",
     "traceback": [
      "\u001b[1;36m  Cell \u001b[1;32mIn[103], line 1\u001b[1;36m\u001b[0m\n\u001b[1;33m    First Name ='Venkad' -- space between the word\u001b[0m\n\u001b[1;37m          ^\u001b[0m\n\u001b[1;31mSyntaxError\u001b[0m\u001b[1;31m:\u001b[0m invalid syntax\n"
     ]
    }
   ],
   "source": [
    "First Name ='Venkad' #space between the word"
   ]
  },
  {
   "cell_type": "code",
   "execution_count": 107,
   "id": "f604aa32-f118-48bb-bc4e-9d049324124a",
   "metadata": {},
   "outputs": [
    {
     "ename": "SyntaxError",
     "evalue": "invalid decimal literal (1617068803.py, line 3)",
     "output_type": "error",
     "traceback": [
      "\u001b[1;36m  Cell \u001b[1;32mIn[107], line 3\u001b[1;36m\u001b[0m\n\u001b[1;33m    1C = A*B; -- The variable starts with a number\u001b[0m\n\u001b[1;37m    ^\u001b[0m\n\u001b[1;31mSyntaxError\u001b[0m\u001b[1;31m:\u001b[0m invalid decimal literal\n"
     ]
    }
   ],
   "source": [
    "A=10;\n",
    "B=20;\n",
    "1C = A*B; #The variable starts with a number\n",
    "print(1C);"
   ]
  },
  {
   "cell_type": "code",
   "execution_count": 73,
   "id": "bca4eca2-e705-4c8f-94bb-2fecaa6b58ff",
   "metadata": {},
   "outputs": [
    {
     "name": "stdout",
     "output_type": "stream",
     "text": [
      "200\n"
     ]
    }
   ],
   "source": [
    "A=10;\n",
    "B=20;\n",
    "C = A*B;\n",
    "print(C);"
   ]
  },
  {
   "cell_type": "code",
   "execution_count": 75,
   "id": "2c06c45a-9fff-471f-b344-8d878cd6d76c",
   "metadata": {},
   "outputs": [
    {
     "name": "stdout",
     "output_type": "stream",
     "text": [
      "30\n",
      "-10\n"
     ]
    }
   ],
   "source": [
    "Num1=10;\n",
    "Num2=20;\n",
    "ADD=Num1+Num2;\n",
    "SUB=Num1-Num2;\n",
    "print(ADD);\n",
    "print(SUB);"
   ]
  },
  {
   "cell_type": "code",
   "execution_count": 97,
   "id": "ae65e015-9941-46b5-8fe8-694724c2403a",
   "metadata": {},
   "outputs": [
    {
     "name": "stdout",
     "output_type": "stream",
     "text": [
      "Addition of two numbers\n",
      "The Number1 Value is: 10\n",
      "The Number2 Value is: 20\n",
      "Result: 30\n"
     ]
    }
   ],
   "source": [
    "Number1=10;\n",
    "Number2=20;\n",
    "Add=Number1+Number2\n",
    "print('Addition of two numbers')\n",
    "print('The Number1 Value is:',Number1)\n",
    "print('The Number2 Value is:',Number2)\n",
    "print('Result:',Add)"
   ]
  },
  {
   "cell_type": "code",
   "execution_count": 125,
   "id": "136127da-0613-48dc-9c69-eede7091e576",
   "metadata": {},
   "outputs": [
    {
     "name": "stdin",
     "output_type": "stream",
     "text": [
      "Enter Number1 value: 10\n",
      "Enter Number2 value: 20\n"
     ]
    },
    {
     "name": "stdout",
     "output_type": "stream",
     "text": [
      "Addition of two numbers\n",
      "The Number1 Value is: 10\n",
      "The Number2 Value is: 20\n",
      "Result: 30\n"
     ]
    }
   ],
   "source": [
    "Number1=int(input('Enter Number1 value:'));\n",
    "Number2=int(input('Enter Number2 value:'));\n",
    "Add=Number1+Number2\n",
    "print('Addition of two numbers')\n",
    "print('The Number1 Value is:',Number1)\n",
    "print('The Number2 Value is:',Number2)\n",
    "print('Result:',Add)"
   ]
  },
  {
   "cell_type": "code",
   "execution_count": null,
   "id": "840d3f62-a3ff-4d2e-97ec-cfa41eaf6f87",
   "metadata": {},
   "outputs": [],
   "source": []
  }
 ],
 "metadata": {
  "kernelspec": {
   "display_name": "Python 3 (ipykernel)",
   "language": "python",
   "name": "python3"
  },
  "language_info": {
   "codemirror_mode": {
    "name": "ipython",
    "version": 3
   },
   "file_extension": ".py",
   "mimetype": "text/x-python",
   "name": "python",
   "nbconvert_exporter": "python",
   "pygments_lexer": "ipython3",
   "version": "3.12.4"
  }
 },
 "nbformat": 4,
 "nbformat_minor": 5
}
