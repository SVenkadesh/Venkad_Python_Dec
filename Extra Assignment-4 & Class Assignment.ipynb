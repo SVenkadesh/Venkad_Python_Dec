{
 "cells": [
  {
   "cell_type": "code",
   "execution_count": 5,
   "id": "9cd6eeeb-3c26-4375-aead-7bc66e033548",
   "metadata": {},
   "outputs": [],
   "source": [
    "# Create a class and function, and list out the items in the list \n",
    "lists=['Machine Learning','Neural Networks','Vision','Robotics','Speech Processing','Natural Language Processing']"
   ]
  },
  {
   "cell_type": "code",
   "execution_count": 13,
   "id": "7ed0dc88-5c29-4a15-9f7a-cde2ef76b97c",
   "metadata": {},
   "outputs": [],
   "source": [
    "# SubfieldsInAI.Subfields() \n",
    "class SubfieldsInAI():\n",
    "    def Subfields():\n",
    "        for subf in lists:\n",
    "            print(subf)"
   ]
  },
  {
   "cell_type": "code",
   "execution_count": 17,
   "id": "cceb7d60-7b89-4da1-82ec-53f468d907ff",
   "metadata": {},
   "outputs": [
    {
     "name": "stdout",
     "output_type": "stream",
     "text": [
      "Machine Learning\n",
      "Neural Networks\n",
      "Vision\n",
      "Robotics\n",
      "Speech Processing\n",
      "Natural Language Processing\n"
     ]
    }
   ],
   "source": [
    "SubfieldsInAI.Subfields()"
   ]
  },
  {
   "cell_type": "code",
   "execution_count": 21,
   "id": "4ff2311b-0dec-418f-bae2-c96168f9dcea",
   "metadata": {},
   "outputs": [],
   "source": [
    "# Create a function that checks whether the given number is Odd or Even\n",
    "#OddEven.OddEven()\n",
    "class OddEven():\n",
    "    def OddEven():\n",
    "        num=int(input('Enter a number'))\n",
    "        if(num/2==0):\n",
    "            print(num,'is Odd number')\n",
    "        else:\n",
    "            print(num,'is Even number')"
   ]
  },
  {
   "cell_type": "code",
   "execution_count": 23,
   "id": "1eaade80-50c3-460f-9c6e-b2424095b08b",
   "metadata": {},
   "outputs": [
    {
     "name": "stdin",
     "output_type": "stream",
     "text": [
      "Enter a number 52452\n"
     ]
    },
    {
     "name": "stdout",
     "output_type": "stream",
     "text": [
      "52452 is Even number\n"
     ]
    }
   ],
   "source": [
    "OddEven.OddEven()"
   ]
  },
  {
   "cell_type": "code",
   "execution_count": 49,
   "id": "2146a6a6-fbb9-49d9-9656-efd7a95cca7e",
   "metadata": {},
   "outputs": [],
   "source": [
    "# Create a function that tells elegibility of marriage for male and female according to their age limit like 21 for male and 18 for female\n",
    "#ElegiblityForMarriage.Elegible() \n",
    "class ElegiblityForMarriage():\n",
    "    def Elegible():\n",
    "        Gender=input('Your Gender')\n",
    "        Age=int(input('Your Age'))\n",
    "        if (Gender=='Male' or 'male') and (Age>=21):\n",
    "            print('ELIGIBLE')\n",
    "        elif(Gender=='Female' or 'female') and (Age>=18):\n",
    "            print('ELIGIBLE')\n",
    "        else:\n",
    "            print('NOT ELIGIBLE')"
   ]
  },
  {
   "cell_type": "code",
   "execution_count": 53,
   "id": "aa20dbef-11a8-4ac0-a2a3-d0037635db16",
   "metadata": {},
   "outputs": [
    {
     "name": "stdin",
     "output_type": "stream",
     "text": [
      "Your Gender Male\n",
      "Your Age 20\n"
     ]
    },
    {
     "name": "stdout",
     "output_type": "stream",
     "text": [
      "ELIGIBLE\n"
     ]
    }
   ],
   "source": [
    "ElegiblityForMarriage.Elegible()"
   ]
  },
  {
   "cell_type": "code",
   "execution_count": 85,
   "id": "0a15ac5e-29b7-4dee-a90a-c5f8510a67cd",
   "metadata": {},
   "outputs": [],
   "source": [
    "# Question calculate the percentage of your 10th mark \n",
    "# FindPercent.percentage() \n",
    "class FindPercent():\n",
    "    def percentage():\n",
    "        Subject1= int(input('Enter Subject1 Mark'))\n",
    "        Subject2= int(input('Enter Subject2 Mark'))\n",
    "        Subject3= int(input('Enter Subject3 Mark'))\n",
    "        Subject4= int(input('Enter Subject4 Mark'))\n",
    "        Subject5= int(input('Enter Subject5 Mark'))\n",
    "        Total=(Subject1+Subject2+Subject3+Subject4+Subject5)\n",
    "        Percentage=(Total/5)\n",
    "        print(\"Total:\", Total)\n",
    "        print('Percentage:', Percentage)"
   ]
  },
  {
   "cell_type": "code",
   "execution_count": 87,
   "id": "2b027164-81c2-4ee0-ab1b-bb76354bd1d1",
   "metadata": {},
   "outputs": [
    {
     "name": "stdin",
     "output_type": "stream",
     "text": [
      "Enter Subject1 Mark 98\n",
      "Enter Subject2 Mark 87\n",
      "Enter Subject3 Mark 95\n",
      "Enter Subject4 Mark 95\n",
      "Enter Subject5 Mark 93\n"
     ]
    },
    {
     "name": "stdout",
     "output_type": "stream",
     "text": [
      "Total: 468\n",
      "Percentage: 93.6\n"
     ]
    }
   ],
   "source": [
    "FindPercent.percentage()"
   ]
  },
  {
   "cell_type": "code",
   "execution_count": 103,
   "id": "0a6cee95-83fb-440d-9f9f-64881c96cc68",
   "metadata": {},
   "outputs": [],
   "source": [
    "# Question print area and perimeter of triangle using class and functions\n",
    "#triangle.triangle() \n",
    "\n",
    "class triangle():\n",
    "    def triangle():\n",
    "        Height= int(input('Height:'))\n",
    "        Breadth= int(input('Breadth:'))\n",
    "        print('Area formula: (Height*Breadth)/2')\n",
    "        Area_of_Triangle=(Height*Breadth)/2\n",
    "        print('Area of Triangle:',Area_of_Triangle)\n",
    "        Height1= int(input('Height1:'))\n",
    "        Height2= int(input('Height2:'))\n",
    "        Breadth= int(input('Breadth:'))\n",
    "        print('Perimeter formula: Height1+Height2+Breadth')\n",
    "        Perimeter_of_Triangle=Height1+Height2+Breadth\n",
    "        print('Perimeter of Triangle:',Perimeter_of_Triangle)"
   ]
  },
  {
   "cell_type": "code",
   "execution_count": 105,
   "id": "b59ea452-75bc-4f28-93da-64fab6186d08",
   "metadata": {},
   "outputs": [
    {
     "name": "stdin",
     "output_type": "stream",
     "text": [
      "Height: 32\n",
      "Breadth: 34\n"
     ]
    },
    {
     "name": "stdout",
     "output_type": "stream",
     "text": [
      "Area formula: (Height*Breadth)/2\n",
      "Area of Triangle: 544.0\n"
     ]
    },
    {
     "name": "stdin",
     "output_type": "stream",
     "text": [
      "Height1: 2\n",
      "Height2: 4\n",
      "Breadth: 4\n"
     ]
    },
    {
     "name": "stdout",
     "output_type": "stream",
     "text": [
      "Perimeter formula: Height1+Height2+Breadth\n",
      "Perimeter of Triangle: 10\n"
     ]
    }
   ],
   "source": [
    "triangle.triangle()"
   ]
  }
 ],
 "metadata": {
  "kernelspec": {
   "display_name": "Python 3 (ipykernel)",
   "language": "python",
   "name": "python3"
  },
  "language_info": {
   "codemirror_mode": {
    "name": "ipython",
    "version": 3
   },
   "file_extension": ".py",
   "mimetype": "text/x-python",
   "name": "python",
   "nbconvert_exporter": "python",
   "pygments_lexer": "ipython3",
   "version": "3.12.4"
  }
 },
 "nbformat": 4,
 "nbformat_minor": 5
}
