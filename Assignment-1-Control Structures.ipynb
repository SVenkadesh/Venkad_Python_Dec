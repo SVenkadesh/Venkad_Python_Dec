{
 "cells": [
  {
   "cell_type": "code",
   "execution_count": 5,
   "id": "41ade92e-2543-41e4-8949-899db40061dd",
   "metadata": {},
   "outputs": [
    {
     "name": "stdout",
     "output_type": "stream",
     "text": [
      "Welcome to Assignment-1\n"
     ]
    }
   ],
   "source": [
    "# Welcome to Assignment-1\n",
    "print('Welcome to Assignment-1')"
   ]
  },
  {
   "cell_type": "code",
   "execution_count": 29,
   "id": "77d78ba7-318d-4192-8fcf-103a1cc225e4",
   "metadata": {},
   "outputs": [
    {
     "name": "stdout",
     "output_type": "stream",
     "text": [
      "Num1= 10\n",
      "Num2= 30\n",
      "Add= 40\n"
     ]
    },
    {
     "name": "stdin",
     "output_type": "stream",
     "text": [
      "Num1= 10\n",
      "Num2= 30\n"
     ]
    },
    {
     "name": "stdout",
     "output_type": "stream",
     "text": [
      "Add= 40\n"
     ]
    }
   ],
   "source": [
    "#Num1= 10  Num2= 30  Add= 40\n",
    "\n",
    "Num1 = 10;\n",
    "Num2=30;\n",
    "Add=Num1+Num2\n",
    "print('Num1=',Num1)\n",
    "print('Num2=',Num2)\n",
    "print('Add=',Add);\n",
    "\n",
    "# Int & Input method\n",
    "\n",
    "Num1= int(input('Num1='))\n",
    "Num2= int(input('Num2='))\n",
    "Add=Num1+Num2\n",
    "print('Add=',Add)\n"
   ]
  },
  {
   "cell_type": "code",
   "execution_count": 38,
   "id": "55341d68-8870-4bc3-b4f0-e8add159bd52",
   "metadata": {},
   "outputs": [
    {
     "name": "stdin",
     "output_type": "stream",
     "text": [
      "Enter the BMI Index: 34\n"
     ]
    },
    {
     "name": "stdout",
     "output_type": "stream",
     "text": [
      "Very Overweight\n"
     ]
    }
   ],
   "source": [
    " #Body Mass Index\n",
    "\n",
    "BMI_Value= int(input('Enter the BMI Index:'))\n",
    "if(BMI_Value<18.5):\n",
    "    print('Underweight');\n",
    "elif(BMI_Value<24.9):\n",
    "    print('Normal Range');\n",
    "elif(BMI_Value<29.9):\n",
    "    print('Overweight');\n",
    "else:\n",
    "    print('Very Overweight')"
   ]
  },
  {
   "cell_type": "markdown",
   "id": "beca5434-1a66-4f3c-bb28-9bbf5c94ede3",
   "metadata": {},
   "source": []
  }
 ],
 "metadata": {
  "kernelspec": {
   "display_name": "Python 3 (ipykernel)",
   "language": "python",
   "name": "python3"
  },
  "language_info": {
   "codemirror_mode": {
    "name": "ipython",
    "version": 3
   },
   "file_extension": ".py",
   "mimetype": "text/x-python",
   "name": "python",
   "nbconvert_exporter": "python",
   "pygments_lexer": "ipython3",
   "version": "3.12.4"
  }
 },
 "nbformat": 4,
 "nbformat_minor": 5
}
