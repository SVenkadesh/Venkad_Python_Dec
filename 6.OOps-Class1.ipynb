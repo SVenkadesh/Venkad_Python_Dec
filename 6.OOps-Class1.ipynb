{
 "cells": [
  {
   "cell_type": "code",
   "execution_count": 3,
   "id": "1e9fe8e4-a4e7-4745-a748-05269776bf9b",
   "metadata": {},
   "outputs": [],
   "source": [
    "#OOps function\n",
    "\n",
    "lists=[23,45,67,34,89]"
   ]
  },
  {
   "cell_type": "code",
   "execution_count": 3,
   "id": "56ccb548-a696-498e-92b4-33f40a0f6b34",
   "metadata": {},
   "outputs": [],
   "source": [
    "def Agecategory():\n",
    "    for Age in lists:\n",
    "        if(Age<18):\n",
    "            print('Childern');\n",
    "        elif(Age<35):\n",
    "            print('Adult');\n",
    "        elif(Age<59):\n",
    "            print('Citizen');\n",
    "        else:\n",
    "            print('Senior Citizen');"
   ]
  },
  {
   "cell_type": "code",
   "execution_count": 7,
   "id": "2aab7290-e8c7-43b9-9f0e-dfa5ad306187",
   "metadata": {},
   "outputs": [
    {
     "name": "stdout",
     "output_type": "stream",
     "text": [
      "Adult\n",
      "Citizen\n",
      "Senior Citizen\n",
      "Adult\n",
      "Senior Citizen\n"
     ]
    }
   ],
   "source": [
    "Agecategory() #Calling function statement"
   ]
  },
  {
   "cell_type": "code",
   "execution_count": 46,
   "id": "85f4b6ba-595a-4182-b30a-4b3c417cca3c",
   "metadata": {},
   "outputs": [],
   "source": [
    "def OddEven():\n",
    "    A = int(input('Enter any value:'));\n",
    "    if((A%2)==0):\n",
    "            print('It is EVEN number')\n",
    "            Message=('It is EVEN number')\n",
    "    else:\n",
    "            print('It is ODD number')\n",
    "            Message=('It is ODD number')\n",
    "    return Message"
   ]
  },
  {
   "cell_type": "code",
   "execution_count": 86,
   "id": "e2ec7474-b805-46d3-b6d7-5d4e5bae5f21",
   "metadata": {},
   "outputs": [
    {
     "name": "stdin",
     "output_type": "stream",
     "text": [
      "Enter any value: 2\n"
     ]
    },
    {
     "name": "stdout",
     "output_type": "stream",
     "text": [
      "It is EVEN number\n"
     ]
    },
    {
     "data": {
      "text/plain": [
       "'It is EVEN number'"
      ]
     },
     "execution_count": 86,
     "metadata": {},
     "output_type": "execute_result"
    }
   ],
   "source": [
    "OddEven()"
   ]
  },
  {
   "cell_type": "code",
   "execution_count": 90,
   "id": "c2223efa-3476-4272-bfea-f700dae70aeb",
   "metadata": {},
   "outputs": [
    {
     "name": "stdin",
     "output_type": "stream",
     "text": [
      "Enter any value: 2\n"
     ]
    },
    {
     "name": "stdout",
     "output_type": "stream",
     "text": [
      "It is EVEN number\n"
     ]
    }
   ],
   "source": [
    "Final=OddEven()"
   ]
  },
  {
   "cell_type": "code",
   "execution_count": 92,
   "id": "2ae80cfe-bcf5-4fa1-b5ec-36e149e93460",
   "metadata": {},
   "outputs": [
    {
     "name": "stdout",
     "output_type": "stream",
     "text": [
      "Given number is Even Number\n"
     ]
    }
   ],
   "source": [
    "if(Final =='It is EVEN number'):\n",
    "    print('Given number is Even Number')\n",
    "else:\n",
    "    print('Given number is Odd Number')"
   ]
  },
  {
   "cell_type": "code",
   "execution_count": 100,
   "id": "7b235051-211d-4260-9fdb-e1ae97f9929c",
   "metadata": {},
   "outputs": [],
   "source": [
    "def BMI_Value():\n",
    "    BMI_Value= int(input('Enter the BMI Index:'))\n",
    "    if(BMI_Value<18.5):\n",
    "        print('Underweight');\n",
    "        Message='Underweight'\n",
    "    elif(BMI_Value<24.9):\n",
    "        print('Normal Range');\n",
    "        Message='Normal Range'\n",
    "    elif(BMI_Value<29.9):\n",
    "        print('Overweight');\n",
    "        Message='Overweight'\n",
    "    else:\n",
    "        print('Very Overweight')\n",
    "        Message='Very Overweight'\n",
    "    return Message"
   ]
  },
  {
   "cell_type": "code",
   "execution_count": 166,
   "id": "2aca42e4-7a63-48ee-8898-cfb7a10f3762",
   "metadata": {},
   "outputs": [
    {
     "name": "stdin",
     "output_type": "stream",
     "text": [
      "Enter the BMI Index: 2\n"
     ]
    },
    {
     "name": "stdout",
     "output_type": "stream",
     "text": [
      "Underweight\n"
     ]
    }
   ],
   "source": [
    "BMI=BMI_Value()"
   ]
  },
  {
   "cell_type": "code",
   "execution_count": 168,
   "id": "06af4eb3-3e73-430b-af9f-97445f59cf2d",
   "metadata": {},
   "outputs": [
    {
     "name": "stdout",
     "output_type": "stream",
     "text": [
      "Your weight is Under the Control, Its Very Good\n"
     ]
    }
   ],
   "source": [
    "if(BMI=='Overweight'):\n",
    "    print('Control the body')\n",
    "elif(BMI=='Underweight'):\n",
    "        print('Your weight is Under the Control, Its Very Good')\n",
    "elif(BMI=='Very Overweight'):\n",
    "        print('Its too much of weight,get daily excersise')\n",
    "elif(BMI=='Normal Range'):\n",
    "        print('Your weight is Normal, its Good')"
   ]
  },
  {
   "cell_type": "code",
   "execution_count": 174,
   "id": "6433efd2-50d1-4dfa-9797-16b7f082a202",
   "metadata": {},
   "outputs": [],
   "source": [
    "#(a,b) called as Parameterized Function or Arguments Function\n",
    "def addition(a,b):\n",
    "    add=a+b\n",
    "    return add"
   ]
  },
  {
   "cell_type": "code",
   "execution_count": 176,
   "id": "825efbd4-de8e-40b1-b26c-ff0db6fe42b6",
   "metadata": {},
   "outputs": [
    {
     "data": {
      "text/plain": [
       "5"
      ]
     },
     "execution_count": 176,
     "metadata": {},
     "output_type": "execute_result"
    }
   ],
   "source": [
    "addition(2,3)"
   ]
  },
  {
   "cell_type": "code",
   "execution_count": 56,
   "id": "bc26a6b2-c402-4774-b2a7-c090957157e0",
   "metadata": {},
   "outputs": [],
   "source": [
    "#OOPS Class-1\n",
    "\n",
    "class multiplefunctions():\n",
    "    def Agecategory():\n",
    "        for Age in lists:\n",
    "            if(Age<18):\n",
    "                print('Childern');\n",
    "            elif(Age<35):\n",
    "                print('Adult');\n",
    "            elif(Age<59):\n",
    "                print('Citizen');\n",
    "            else:\n",
    "                print('Senior Citizen');\n",
    "\n",
    "    def OddEven():\n",
    "        A = int(input('Enter any value:'));\n",
    "        if((A%2)==0):\n",
    "                print('It is EVEN number')\n",
    "                Message=('It is EVEN number')\n",
    "        else:\n",
    "                print('It is ODD number')\n",
    "                Message=('It is ODD number')\n",
    "    def BMI_Value():\n",
    "        BMI_Value= int(input('Enter the BMI Index:'))\n",
    "        if(BMI_Value<18.5):\n",
    "            print('Underweight');\n",
    "            Message='Underweight'\n",
    "        elif(BMI_Value<24.9):\n",
    "            print('Normal Range');\n",
    "            Message='Normal Range'\n",
    "        elif(BMI_Value<29.9):\n",
    "            print('Overweight');\n",
    "            Message='Overweight'\n",
    "        else:\n",
    "            print('Very Overweight')\n",
    "            Message='Very Overweight'\n",
    "        return Message"
   ]
  },
  {
   "cell_type": "code",
   "execution_count": 52,
   "id": "700cc739-1f74-47c2-96c3-16443c8984bc",
   "metadata": {},
   "outputs": [
    {
     "name": "stdin",
     "output_type": "stream",
     "text": [
      "Enter any value: 67\n"
     ]
    },
    {
     "name": "stdout",
     "output_type": "stream",
     "text": [
      "It is ODD number\n"
     ]
    }
   ],
   "source": [
    "multiplefunctions.OddEven()"
   ]
  },
  {
   "cell_type": "code",
   "execution_count": 54,
   "id": "1308519b-7ae8-4e88-93b0-5d8ad49d9e45",
   "metadata": {},
   "outputs": [
    {
     "name": "stdout",
     "output_type": "stream",
     "text": [
      "Adult\n",
      "Citizen\n",
      "Senior Citizen\n",
      "Adult\n",
      "Senior Citizen\n"
     ]
    }
   ],
   "source": [
    "multiplefunctions.Agecategory()"
   ]
  },
  {
   "cell_type": "code",
   "execution_count": 60,
   "id": "4de16b09-3fc8-464e-ad38-c68978e76bb8",
   "metadata": {},
   "outputs": [
    {
     "name": "stdin",
     "output_type": "stream",
     "text": [
      "Enter the BMI Index: 27\n"
     ]
    },
    {
     "name": "stdout",
     "output_type": "stream",
     "text": [
      "Overweight\n"
     ]
    },
    {
     "data": {
      "text/plain": [
       "'Overweight'"
      ]
     },
     "execution_count": 60,
     "metadata": {},
     "output_type": "execute_result"
    }
   ],
   "source": [
    "multiplefunctions.BMI_Value()"
   ]
  },
  {
   "cell_type": "code",
   "execution_count": null,
   "id": "8eaf5313-4092-43cc-9d17-b3ea324e5f58",
   "metadata": {},
   "outputs": [],
   "source": []
  }
 ],
 "metadata": {
  "kernelspec": {
   "display_name": "Python 3 (ipykernel)",
   "language": "python",
   "name": "python3"
  },
  "language_info": {
   "codemirror_mode": {
    "name": "ipython",
    "version": 3
   },
   "file_extension": ".py",
   "mimetype": "text/x-python",
   "name": "python",
   "nbconvert_exporter": "python",
   "pygments_lexer": "ipython3",
   "version": "3.12.4"
  }
 },
 "nbformat": 4,
 "nbformat_minor": 5
}
