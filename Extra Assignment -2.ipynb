{
 "cells": [
  {
   "cell_type": "code",
   "execution_count": 3,
   "id": "d4e8d75e-0e28-4bf3-b936-3174242714ea",
   "metadata": {},
   "outputs": [
    {
     "name": "stdout",
     "output_type": "stream",
     "text": [
      "0\n",
      "1\n",
      "2\n",
      "3\n",
      "4\n",
      "5\n",
      "6\n",
      "7\n",
      "8\n",
      "9\n",
      "10\n",
      "11\n",
      "12\n",
      "13\n",
      "14\n",
      "15\n",
      "16\n",
      "17\n",
      "18\n",
      "19\n"
     ]
    }
   ],
   "source": [
    " # print 0 to 20 by using range\n",
    "for num in range(0,20):\n",
    "    print(num);"
   ]
  },
  {
   "cell_type": "code",
   "execution_count": 7,
   "id": "ca1d0445-463e-45fb-bf72-23d6e87228e5",
   "metadata": {},
   "outputs": [
    {
     "name": "stdout",
     "output_type": "stream",
     "text": [
      "10\n",
      "11\n",
      "12\n",
      "13\n",
      "14\n",
      "15\n",
      "16\n",
      "17\n",
      "18\n",
      "19\n"
     ]
    }
   ],
   "source": [
    " # print range 10 to 20\n",
    "for List2 in range(10,20):\n",
    "    print(List2);"
   ]
  },
  {
   "cell_type": "code",
   "execution_count": 17,
   "id": "01269aa2-7b2f-4cba-beda-0105b9e8f109",
   "metadata": {},
   "outputs": [
    {
     "name": "stdout",
     "output_type": "stream",
     "text": [
      "Number of item in the List2: 7\n"
     ]
    }
   ],
   "source": [
    " # Print number of items in the list by using 'len'\n",
    "list2=[10, 20, 14, 55, 43, 87, 76];\n",
    "length=len(list2);\n",
    "print('Number of item in the List2:',length)"
   ]
  },
  {
   "cell_type": "code",
   "execution_count": 75,
   "id": "09b6c9bd-5e6c-45f7-8913-d107fbb91161",
   "metadata": {},
   "outputs": [
    {
     "name": "stdout",
     "output_type": "stream",
     "text": [
      "['Artificial', 'Intelligence']\n",
      "['A', 'r', 't', 'i', 'f', 'i', 'c', 'i', 'a', 'l', ' ', 'I', 'n', 't', 'e', 'l', 'l', 'i', 'g', 'e', 'n', 'c', 'e']\n",
      "A\n",
      "r\n",
      "t\n",
      "i\n",
      "f\n",
      "i\n",
      "c\n",
      "i\n",
      "a\n",
      "l\n",
      " \n",
      "I\n",
      "n\n",
      "t\n",
      "e\n",
      "l\n",
      "l\n",
      "i\n",
      "g\n",
      "e\n",
      "n\n",
      "c\n",
      "e\n"
     ]
    }
   ],
   "source": [
    "#Artificial Intelligence this word should be veritical\n",
    "name='Artificial Intelligence'\n",
    "sname=name.split()  # split function used to split the words\n",
    "print(sname);\n",
    "\n",
    "lname=list(name);\n",
    "lname = [nm for nm in lname] # for horizandal line\n",
    "print(lname)\n",
    "\n",
    "for x in name:\n",
    "    print(x) # for verifical line"
   ]
  },
  {
   "cell_type": "code",
   "execution_count": 79,
   "id": "85830cf1-a969-4a12-8d4d-1805a6bc32da",
   "metadata": {},
   "outputs": [
    {
     "name": "stdout",
     "output_type": "stream",
     "text": [
      "-Your Name-\n",
      "-Your Age-\n",
      "-Your Profession-\n"
     ]
    }
   ],
   "source": [
    "# -Your Name- -Your Age- -Your Profession-\n",
    "print(\"-Your Name-\")\n",
    "print(\"-Your Age-\")\n",
    "print(\"-Your Profession-\")"
   ]
  },
  {
   "cell_type": "code",
   "execution_count": 107,
   "id": "6ed6fba8-8094-4e97-abaa-d50e435627c9",
   "metadata": {},
   "outputs": [
    {
     "name": "stdout",
     "output_type": "stream",
     "text": [
      "(1, 'Welcome', 2, 'Hope')\n"
     ]
    }
   ],
   "source": [
    "Tuple = (1, 'Welcome', 2, 'Hope') \n",
    "print(Tuple) "
   ]
  },
  {
   "cell_type": "code",
   "execution_count": 125,
   "id": "cc8cc673-d451-4e13-bb66-b28d3bf2e030",
   "metadata": {},
   "outputs": [
    {
     "name": "stdout",
     "output_type": "stream",
     "text": [
      "((0, 1, 2, 3, 4), ('HOPEAI', 'Python'))\n"
     ]
    }
   ],
   "source": [
    "Tuple1=(0,1,2,3,4);\n",
    "Tuple2=('HOPEAI', 'Python');\n",
    "Tuple3=(Tuple1, Tuple2)\n",
    "print(Tuple3);"
   ]
  },
  {
   "cell_type": "code",
   "execution_count": 156,
   "id": "127023b9-1857-4150-a6bc-d9edfd74e4cf",
   "metadata": {},
   "outputs": [
    {
     "name": "stdout",
     "output_type": "stream",
     "text": [
      "20\n",
      "10\n",
      "16\n",
      "276\n",
      "188\n"
     ]
    }
   ],
   "source": [
    "#  print Odd Numbers in the list (20,10,16,19,25,1,276,188) \n",
    "\n",
    "num=(20,10,16,19,25,1,276,188)\n",
    "for a in num:\n",
    "    if((a%2)==0):\n",
    "        print(a)"
   ]
  },
  {
   "cell_type": "code",
   "execution_count": 158,
   "id": "ea31b5fb-2b21-4930-9e43-0d46c9279d48",
   "metadata": {},
   "outputs": [
    {
     "name": "stdout",
     "output_type": "stream",
     "text": [
      "19\n",
      "25\n",
      "1\n"
     ]
    }
   ],
   "source": [
    "# print Even numbers in the list (20,10,16,19,25,1,276,188) \n",
    "\n",
    "num=(20,10,16,19,25,1,276,188)\n",
    "for a in num:\n",
    "    if((a%2)==1):\n",
    "        print(a)"
   ]
  },
  {
   "cell_type": "code",
   "execution_count": null,
   "id": "08e3be38-59f6-4f1f-a8c1-69090f3940bb",
   "metadata": {},
   "outputs": [],
   "source": []
  }
 ],
 "metadata": {
  "kernelspec": {
   "display_name": "Python 3 (ipykernel)",
   "language": "python",
   "name": "python3"
  },
  "language_info": {
   "codemirror_mode": {
    "name": "ipython",
    "version": 3
   },
   "file_extension": ".py",
   "mimetype": "text/x-python",
   "name": "python",
   "nbconvert_exporter": "python",
   "pygments_lexer": "ipython3",
   "version": "3.12.4"
  }
 },
 "nbformat": 4,
 "nbformat_minor": 5
}
