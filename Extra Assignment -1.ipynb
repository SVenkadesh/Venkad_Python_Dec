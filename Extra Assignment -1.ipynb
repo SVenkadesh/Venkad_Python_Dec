{
 "cells": [
  {
   "cell_type": "code",
   "execution_count": 1,
   "id": "ce2de1af-cc82-4430-b813-427a7b1591dd",
   "metadata": {},
   "outputs": [
    {
     "name": "stdout",
     "output_type": "stream",
     "text": [
      "HOPE AI\n"
     ]
    }
   ],
   "source": [
    " #print Statement \n",
    "print('HOPE AI')"
   ]
  },
  {
   "cell_type": "code",
   "execution_count": 5,
   "id": "bc6c9683-12d8-4712-8435-e2ce57badd04",
   "metadata": {},
   "outputs": [
    {
     "name": "stdin",
     "output_type": "stream",
     "text": [
      "Enter your institute name?: HOPE AI\n"
     ]
    }
   ],
   "source": [
    "# Buy input\n",
    "Name=input('Enter your institute name?:')"
   ]
  },
  {
   "cell_type": "code",
   "execution_count": 11,
   "id": "dff25822-d038-411e-b359-262e6e10c66c",
   "metadata": {},
   "outputs": [
    {
     "name": "stdin",
     "output_type": "stream",
     "text": [
      "Enter your name: Raj\n",
      "Enter your age: 15\n",
      "Enter your school name: Guru School\n",
      "Enter your drgree: B.E CSE\n"
     ]
    }
   ],
   "source": [
    "#Buy inputs \n",
    "Name=input('Enter your name:');\n",
    "Age=int(input('Enter your age:'));\n",
    "School_Name= input('Enter your school name:');\n",
    "Degree=input('Enter your drgree:');"
   ]
  },
  {
   "cell_type": "code",
   "execution_count": 17,
   "id": "c978f570-34ab-41e3-b8ba-5e0b153b42b0",
   "metadata": {},
   "outputs": [
    {
     "name": "stdin",
     "output_type": "stream",
     "text": [
      "a= 43\n",
      "b= 34\n"
     ]
    },
    {
     "name": "stdout",
     "output_type": "stream",
     "text": [
      "add= 77\n"
     ]
    }
   ],
   "source": [
    "#Addition \n",
    "Num1=int(input('a='));\n",
    "Num2=int(input('b='));\n",
    "add=Num1+Num2\n",
    "print('add=',add);"
   ]
  },
  {
   "cell_type": "code",
   "execution_count": 15,
   "id": "fc93c9d8-6020-4a67-8cbf-8eb02705271f",
   "metadata": {},
   "outputs": [
    {
     "name": "stdin",
     "output_type": "stream",
     "text": [
      "a= 43\n",
      "b= 34\n"
     ]
    },
    {
     "name": "stdout",
     "output_type": "stream",
     "text": [
      "Sub= 9\n"
     ]
    }
   ],
   "source": [
    "#Subtraction \n",
    "Num1=int(input('a='));\n",
    "Num2=int(input('b='));\n",
    "Sub=Num1-Num2\n",
    "print('Sub=',Sub);"
   ]
  },
  {
   "cell_type": "code",
   "execution_count": 21,
   "id": "65b32adc-1900-431a-b762-478fe8c24760",
   "metadata": {},
   "outputs": [
    {
     "name": "stdin",
     "output_type": "stream",
     "text": [
      "a= 63\n",
      "b= 97\n"
     ]
    },
    {
     "name": "stdout",
     "output_type": "stream",
     "text": [
      "Mul= 6111\n"
     ]
    }
   ],
   "source": [
    "#Multiplication\n",
    "Num1=int(input('a='));\n",
    "Num2=int(input('b='));\n",
    "Mul=Num1*Num2\n",
    "print('Mul=',Mul);"
   ]
  },
  {
   "cell_type": "code",
   "execution_count": 23,
   "id": "145f3083-661b-48af-83d4-84aac74195a2",
   "metadata": {},
   "outputs": [
    {
     "name": "stdin",
     "output_type": "stream",
     "text": [
      "a= 76\n",
      "b= 31\n"
     ]
    },
    {
     "name": "stdout",
     "output_type": "stream",
     "text": [
      "Div= 2.4516129032258065\n"
     ]
    }
   ],
   "source": [
    "#Division\n",
    "Num1=int(input('a='));\n",
    "Num2=int(input('b='));\n",
    "Div=Num1/Num2\n",
    "print('Div=',Div);"
   ]
  },
  {
   "cell_type": "code",
   "execution_count": 39,
   "id": "26b7c60a-09e3-48fc-8803-a4754221ad14",
   "metadata": {},
   "outputs": [
    {
     "name": "stdin",
     "output_type": "stream",
     "text": [
      "a= 76\n",
      "b= 31\n"
     ]
    },
    {
     "name": "stdout",
     "output_type": "stream",
     "text": [
      "Floor Div= 2\n"
     ]
    }
   ],
   "source": [
    "#Floor division\n",
    "Num1=int(input('a='));\n",
    "Num2=int(input('b='));\n",
    "Floor_Div=(Num1//Num2)\n",
    "print('Floor Div=',FDiv);"
   ]
  },
  {
   "cell_type": "code",
   "execution_count": 45,
   "id": "a111a56d-6149-44b7-9e44-88e5eb9248a5",
   "metadata": {},
   "outputs": [
    {
     "name": "stdin",
     "output_type": "stream",
     "text": [
      "a= 76\n",
      "b= 31\n"
     ]
    },
    {
     "name": "stdout",
     "output_type": "stream",
     "text": [
      "Mod= 14\n"
     ]
    }
   ],
   "source": [
    "#Modulo\n",
    "Num1=int(input('a='));\n",
    "Num2=int(input('b='));\n",
    "Mod=(Num1%Num2)\n",
    "print('Mod=',Mod);"
   ]
  },
  {
   "cell_type": "code",
   "execution_count": 59,
   "id": "cf5485ca-809d-41a1-8721-f0a8b8d78afe",
   "metadata": {},
   "outputs": [
    {
     "name": "stdin",
     "output_type": "stream",
     "text": [
      "a= 4\n",
      "b= 4\n"
     ]
    },
    {
     "name": "stdout",
     "output_type": "stream",
     "text": [
      "Power 256\n"
     ]
    },
    {
     "name": "stdin",
     "output_type": "stream",
     "text": [
      "a= 4\n",
      "b= 4\n"
     ]
    },
    {
     "name": "stdout",
     "output_type": "stream",
     "text": [
      "Power 256\n"
     ]
    }
   ],
   "source": [
    "# Power\n",
    "Num1=int(input('a='));\n",
    "Num2=int(input('b='));\n",
    "Power=pow(Num1,Num2);\n",
    "print('Power',Power);\n",
    "\n",
    "#2nd method\n",
    "\n",
    "# Power\n",
    "Num1=int(input('a='));\n",
    "Num2=int(input('b='));\n",
    "Power=(Num1 ** Num2);\n",
    "print('Power',Power);"
   ]
  },
  {
   "cell_type": "code",
   "execution_count": null,
   "id": "4b5ecbd6-efd0-47f0-9ddb-2673242b5529",
   "metadata": {},
   "outputs": [],
   "source": []
  }
 ],
 "metadata": {
  "kernelspec": {
   "display_name": "Python 3 (ipykernel)",
   "language": "python",
   "name": "python3"
  },
  "language_info": {
   "codemirror_mode": {
    "name": "ipython",
    "version": 3
   },
   "file_extension": ".py",
   "mimetype": "text/x-python",
   "name": "python",
   "nbconvert_exporter": "python",
   "pygments_lexer": "ipython3",
   "version": "3.12.4"
  }
 },
 "nbformat": 4,
 "nbformat_minor": 5
}
