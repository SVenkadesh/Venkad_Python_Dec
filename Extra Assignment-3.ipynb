{
 "cells": [
  {
   "cell_type": "code",
   "execution_count": 7,
   "id": "d07b159f-9595-42ff-bd30-e29c8e6b0f0c",
   "metadata": {},
   "outputs": [
    {
     "name": "stdin",
     "output_type": "stream",
     "text": [
      "Value 10\n"
     ]
    },
    {
     "name": "stdout",
     "output_type": "stream",
     "text": [
      "CORRECT\n"
     ]
    }
   ],
   "source": [
    "# print 'CORRECT' if i == 10 \n",
    "value=int(input('Value'))\n",
    "if(value==10):\n",
    "    print('CORRECT')"
   ]
  },
  {
   "cell_type": "code",
   "execution_count": 33,
   "id": "81d81275-2df4-4278-b4eb-de93817793c2",
   "metadata": {},
   "outputs": [
    {
     "name": "stdin",
     "output_type": "stream",
     "text": [
      "Enter the password: HOPE@123\n"
     ]
    },
    {
     "name": "stdout",
     "output_type": "stream",
     "text": [
      "Your password is correct\n"
     ]
    }
   ],
   "source": [
    "## Check the password, using if and else \n",
    "password=input('Enter the password:')\n",
    "if (password=='HOPE@123'):\n",
    "    print('Your password is correct')\n",
    "else:\n",
    "    print('Your password is notcorrect')"
   ]
  },
  {
   "cell_type": "code",
   "execution_count": 41,
   "id": "af4194e5-0b01-44b6-ae18-e95dc08254eb",
   "metadata": {},
   "outputs": [
    {
     "name": "stdin",
     "output_type": "stream",
     "text": [
      "Age: 20\n"
     ]
    },
    {
     "name": "stdout",
     "output_type": "stream",
     "text": [
      "Adult\n"
     ]
    }
   ],
   "source": [
    "# Catagory the people by their age like children, adult, citizen, senior citizen... \n",
    "\n",
    "Age=int(input('Age:'))\n",
    "if(Age<17):\n",
    "    print('Children')\n",
    "elif(Age<39):\n",
    "    print('Adult')\n",
    "elif(Age<59):\n",
    "    print('Citizen')\n",
    "else:\n",
    "    print('Senior Citizen')"
   ]
  },
  {
   "cell_type": "code",
   "execution_count": 51,
   "id": "30f56cd4-aa5b-44d4-a3f2-c9f9110e1bc2",
   "metadata": {},
   "outputs": [
    {
     "name": "stdin",
     "output_type": "stream",
     "text": [
      "Enter any number: 1\n"
     ]
    },
    {
     "name": "stdout",
     "output_type": "stream",
     "text": [
      "No is positive\n"
     ]
    }
   ],
   "source": [
    " # Find whether given number is positive or negative\n",
    "\n",
    "Num=int(input('Enter any number:'))\n",
    "if(Num>0):\n",
    "    print('No is positive')\n",
    "else:\n",
    "    print('No is negative')"
   ]
  },
  {
   "cell_type": "code",
   "execution_count": 67,
   "id": "bed04364-68d1-47ee-b14b-76704c950971",
   "metadata": {},
   "outputs": [
    {
     "name": "stdin",
     "output_type": "stream",
     "text": [
      "Enter a number to check: 22\n"
     ]
    },
    {
     "name": "stdout",
     "output_type": "stream",
     "text": [
      "No is not divisible by 5\n"
     ]
    }
   ],
   "source": [
    "# Check whether the given number is divisible by 5 \n",
    "\n",
    "DivNum=int(input('Enter a number to check:'))\n",
    "if ((DivNum%5)==0):\n",
    "    print('No is divisible by 5')\n",
    "else:\n",
    "        print('No is not divisible by 5')"
   ]
  },
  {
   "cell_type": "code",
   "execution_count": null,
   "id": "2df92781-5389-4111-969c-c488f3efb831",
   "metadata": {},
   "outputs": [],
   "source": []
  }
 ],
 "metadata": {
  "kernelspec": {
   "display_name": "Python 3 (ipykernel)",
   "language": "python",
   "name": "python3"
  },
  "language_info": {
   "codemirror_mode": {
    "name": "ipython",
    "version": 3
   },
   "file_extension": ".py",
   "mimetype": "text/x-python",
   "name": "python",
   "nbconvert_exporter": "python",
   "pygments_lexer": "ipython3",
   "version": "3.12.4"
  }
 },
 "nbformat": 4,
 "nbformat_minor": 5
}
