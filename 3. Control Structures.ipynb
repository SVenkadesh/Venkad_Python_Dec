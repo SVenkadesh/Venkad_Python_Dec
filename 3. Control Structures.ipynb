{
 "cells": [
  {
   "cell_type": "code",
   "execution_count": 1,
   "id": "cf5c451a-80db-41ff-8542-7f522b708be9",
   "metadata": {},
   "outputs": [],
   "source": [
    "# Control Structures means condition like if, else, elif, for loop & whole loop"
   ]
  },
  {
   "cell_type": "code",
   "execution_count": 21,
   "id": "4c9c651d-ac12-47bc-bec6-828886098077",
   "metadata": {},
   "outputs": [
    {
     "name": "stdin",
     "output_type": "stream",
     "text": [
      "Enter the user age: 18\n"
     ]
    },
    {
     "name": "stdout",
     "output_type": "stream",
     "text": [
      "Adult\n"
     ]
    }
   ],
   "source": [
    "# If Statement\n",
    "\n",
    "Age=int(input('Enter the user age:'))\n",
    "if(Age==18):\n",
    "    print('Adult');"
   ]
  },
  {
   "cell_type": "code",
   "execution_count": 39,
   "id": "912e46b8-a8d6-4029-8806-b9f7b8b82427",
   "metadata": {},
   "outputs": [
    {
     "name": "stdin",
     "output_type": "stream",
     "text": [
      "Enter the user age: 18\n"
     ]
    },
    {
     "name": "stdout",
     "output_type": "stream",
     "text": [
      "Adult\n"
     ]
    }
   ],
   "source": [
    "# If Else Statement\n",
    "\n",
    "Age=int(input('Enter the user age:'))\n",
    "if(Age>17):\n",
    "    print('Adult');\n",
    "else:\n",
    "    print('Child');"
   ]
  },
  {
   "cell_type": "code",
   "execution_count": 117,
   "id": "494c2c0b-9840-46f9-a771-d2b2affa1cf7",
   "metadata": {},
   "outputs": [
    {
     "name": "stdin",
     "output_type": "stream",
     "text": [
      "Enter the Age: 20\n"
     ]
    },
    {
     "name": "stdout",
     "output_type": "stream",
     "text": [
      "Adult\n"
     ]
    }
   ],
   "source": [
    "# If Elif (Else IF) Statement\n",
    "\n",
    "Age = int(input('Enter the Age:'))\n",
    "if(Age<18):\n",
    "    print('Childern');\n",
    "elif(Age<35):\n",
    "    print('Adult');\n",
    "elif(Age<59):\n",
    "    print('Citizen');\n",
    "else:\n",
    "    print('Senior Citizen');"
   ]
  },
  {
   "cell_type": "code",
   "execution_count": 137,
   "id": "ecef11ac-1316-497f-934b-796d43dac46a",
   "metadata": {},
   "outputs": [],
   "source": [
    "#For loop\n",
    "\n",
    "lists=[23,45,67,34,89]"
   ]
  },
  {
   "cell_type": "code",
   "execution_count": 125,
   "id": "209c70cb-6e59-4960-bdb2-089fcf50bcc1",
   "metadata": {},
   "outputs": [
    {
     "name": "stdout",
     "output_type": "stream",
     "text": [
      "23\n",
      "45\n",
      "67\n",
      "34\n",
      "89\n"
     ]
    }
   ],
   "source": [
    "for temp in lists:\n",
    "    print(temp)"
   ]
  },
  {
   "cell_type": "code",
   "execution_count": 139,
   "id": "b1c61ec6-b4da-4af0-a547-3c52afe03cd4",
   "metadata": {},
   "outputs": [
    {
     "name": "stdout",
     "output_type": "stream",
     "text": [
      "Adult\n",
      "Citizen\n",
      "Senior Citizen\n",
      "Adult\n",
      "Senior Citizen\n"
     ]
    }
   ],
   "source": [
    "for Age in lists:\n",
    "    if(Age<18):\n",
    "        print('Childern');\n",
    "    elif(Age<35):\n",
    "        print('Adult');\n",
    "    elif(Age<59):\n",
    "        print('Citizen');\n",
    "    else:\n",
    "        print('Senior Citizen');"
   ]
  },
  {
   "cell_type": "code",
   "execution_count": null,
   "id": "1e9fe8e4-a4e7-4745-a748-05269776bf9b",
   "metadata": {},
   "outputs": [],
   "source": []
  }
 ],
 "metadata": {
  "kernelspec": {
   "display_name": "Python 3 (ipykernel)",
   "language": "python",
   "name": "python3"
  },
  "language_info": {
   "codemirror_mode": {
    "name": "ipython",
    "version": 3
   },
   "file_extension": ".py",
   "mimetype": "text/x-python",
   "name": "python",
   "nbconvert_exporter": "python",
   "pygments_lexer": "ipython3",
   "version": "3.12.4"
  }
 },
 "nbformat": 4,
 "nbformat_minor": 5
}
